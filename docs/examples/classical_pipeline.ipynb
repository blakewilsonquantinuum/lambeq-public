{
 "cells": [
  {
   "cell_type": "markdown",
   "id": "672c7718",
   "metadata": {
    "tags": []
   },
   "source": [
    "# Classical pipeline"
   ]
  },
  {
   "cell_type": "code",
   "execution_count": 1,
   "id": "bd8ae721-637c-47a0-b8a2-b966f2da492e",
   "metadata": {},
   "outputs": [],
   "source": [
    "import torch\n",
    "from lambeq.training import Dataset, PytorchModel, PytorchTrainer\n",
    "\n",
    "SEED = 0"
   ]
  },
  {
   "cell_type": "markdown",
   "id": "f13b020a-1b9f-442a-8a3f-370cf57ac45c",
   "metadata": {
    "tags": []
   },
   "source": [
    "### Input data"
   ]
  },
  {
   "cell_type": "code",
   "execution_count": 2,
   "id": "2dc5185b",
   "metadata": {},
   "outputs": [],
   "source": [
    "def read_data(filename):\n",
    "    labels, sentences = [], []\n",
    "    with open(filename) as f:\n",
    "        for line in f:\n",
    "            t = float(line[0])\n",
    "            labels.append(torch.as_tensor([t, 1-t]))\n",
    "            sentences.append(line[1:].strip())\n",
    "    return labels, sentences\n",
    "\n",
    "\n",
    "train_labels, train_data = read_data('datasets/mc_train_data.txt')\n",
    "dev_labels, dev_data = read_data('datasets/mc_dev_data.txt')\n",
    "test_labels, test_data = read_data('datasets/mc_test_data.txt')"
   ]
  },
  {
   "cell_type": "markdown",
   "id": "color-reservoir",
   "metadata": {
    "tags": []
   },
   "source": [
    "### Create diagrams"
   ]
  },
  {
   "cell_type": "code",
   "execution_count": 3,
   "id": "540e07d1",
   "metadata": {},
   "outputs": [
    {
     "name": "stderr",
     "output_type": "stream",
     "text": [
      "\n",
      "\n",
      "\n"
     ]
    }
   ],
   "source": [
    "import warnings\n",
    "warnings.filterwarnings(\"ignore\")\n",
    "\n",
    "from lambeq.ccg2discocat import DepCCGParser\n",
    "\n",
    "reader = DepCCGParser(possible_root_cats=['S[dcl]'])\n",
    "\n",
    "train_diagrams = reader.sentences2diagrams(train_data)\n",
    "dev_diagrams = reader.sentences2diagrams(dev_data)\n",
    "test_diagrams = reader.sentences2diagrams(test_data)"
   ]
  },
  {
   "cell_type": "markdown",
   "id": "organizational-dominant",
   "metadata": {},
   "source": [
    "### Create circuits"
   ]
  },
  {
   "cell_type": "code",
   "execution_count": 4,
   "id": "4c55e29a",
   "metadata": {},
   "outputs": [
    {
     "data": {
      "image/png": "[encoded data removed]",
      "text/plain": [
       "<Figure size 432x288 with 1 Axes>"
      ]
     },
     "metadata": {},
     "output_type": "display_data"
    }
   ],
   "source": [
    "from discopy import Dim\n",
    "\n",
    "from lambeq.tensor import SpiderAnsatz\n",
    "from lambeq.core.types import AtomicType\n",
    "\n",
    "ansatz = SpiderAnsatz({AtomicType.NOUN: Dim(2),\n",
    "                       AtomicType.SENTENCE: Dim(2)})\n",
    "\n",
    "train_circuits = [ansatz(diagram) for diagram in train_diagrams]\n",
    "dev_circuits =  [ansatz(diagram) for diagram in dev_diagrams]\n",
    "test_circuits = [ansatz(diagram) for diagram in test_diagrams]\n",
    "\n",
    "train_circuits[0].draw()"
   ]
  },
  {
   "cell_type": "markdown",
   "id": "2a02dd1f",
   "metadata": {},
   "source": [
    "### Parameterise"
   ]
  },
  {
   "cell_type": "code",
   "execution_count": 5,
   "id": "867c15fc-9695-42ff-959c-1415bc2a7653",
   "metadata": {},
   "outputs": [],
   "source": [
    "all_circuits = train_circuits + dev_circuits + test_circuits\n",
    "model = PytorchModel(all_circuits, seed=SEED)"
   ]
  },
  {
   "cell_type": "markdown",
   "id": "991ee9fa",
   "metadata": {},
   "source": [
    "### Define Evaluation Metric"
   ]
  },
  {
   "cell_type": "code",
   "execution_count": 6,
   "id": "8069a47c",
   "metadata": {},
   "outputs": [],
   "source": [
    "def accuracy(preds, targets):\n",
    "    hits = 0\n",
    "    for i in range(len(preds)):\n",
    "        target = targets[i]\n",
    "        pred = preds[i]\n",
    "        if torch.argmax(target) == torch.argmax(pred):\n",
    "            hits += 1\n",
    "    return hits / len(preds)"
   ]
  },
  {
   "cell_type": "markdown",
   "id": "architectural-mainland",
   "metadata": {},
   "source": [
    "### Initialize Trainer"
   ]
  },
  {
   "cell_type": "code",
   "execution_count": 7,
   "id": "1ef339b6",
   "metadata": {},
   "outputs": [],
   "source": [
    "BATCH_SIZE = 30\n",
    "EPOCHS = 20\n",
    "LEARNING_RATE = 3e-2\n",
    "\n",
    "trainer = PytorchTrainer(\n",
    "        model=model,\n",
    "        loss_function=torch.nn.BCEWithLogitsLoss(),\n",
    "        optimizer=torch.optim.AdamW,    # type: ignore\n",
    "        learning_rate=LEARNING_RATE,\n",
    "        epochs=EPOCHS,\n",
    "        evaluate_functions={\"acc\": accuracy},\n",
    "        verbose=False)"
   ]
  },
  {
   "cell_type": "code",
   "execution_count": 8,
   "id": "8dc0c239",
   "metadata": {},
   "outputs": [],
   "source": [
    "train_dataset = Dataset(\n",
    "            train_circuits,\n",
    "            train_labels,\n",
    "            batch_size=BATCH_SIZE,\n",
    "            seed=SEED)\n",
    "\n",
    "dev_dataset = Dataset(dev_circuits, dev_labels)"
   ]
  },
  {
   "cell_type": "markdown",
   "id": "11bb7043",
   "metadata": {},
   "source": [
    "### Train"
   ]
  },
  {
   "cell_type": "code",
   "execution_count": 9,
   "id": "5d97eb7b",
   "metadata": {},
   "outputs": [
    {
     "name": "stdout",
     "output_type": "stream",
     "text": [
      "....................................................................................................\n",
      "Training successful!\n"
     ]
    }
   ],
   "source": [
    "trainer.fit(train_dataset, dev_dataset)"
   ]
  },
  {
   "cell_type": "markdown",
   "id": "beautiful-jesus",
   "metadata": {
    "tags": []
   },
   "source": [
    "### Show results"
   ]
  },
  {
   "cell_type": "code",
   "execution_count": 10,
   "id": "connected-dominican",
   "metadata": {},
   "outputs": [
    {
     "name": "stdout",
     "output_type": "stream",
     "text": [
      "Test accuracy: 1.0\n"
     ]
    },
    {
     "data": {
      "image/png": "[encoded data removed]",
      "text/plain": [
       "<Figure size 720x432 with 4 Axes>"
      ]
     },
     "metadata": {
      "needs_background": "light"
     },
     "output_type": "display_data"
    }
   ],
   "source": [
    "import matplotlib.pyplot as plt\n",
    "\n",
    "fig1, ((ax_tl, ax_tr), (ax_bl, ax_br)) = plt.subplots(2, 2, sharey='row', figsize=(10, 6))\n",
    "\n",
    "ax_tl.set_title('Training set')\n",
    "ax_tr.set_title('Development set')\n",
    "ax_bl.set_xlabel('Epochs')\n",
    "ax_br.set_xlabel('Epochs')\n",
    "ax_bl.set_ylabel('Accuracy')\n",
    "ax_tl.set_ylabel('Loss')\n",
    "\n",
    "colours = iter(plt.rcParams['axes.prop_cycle'].by_key()['color'])\n",
    "ax_tl.plot(trainer.train_epoch_costs, color=next(colours))\n",
    "ax_tr.plot(trainer.val_costs, color=next(colours))\n",
    "ax_br.plot(trainer.val_results['acc'], color=next(colours))\n",
    "\n",
    "# print test accuracy\n",
    "test_acc = accuracy(model.forward(test_circuits), test_labels)\n",
    "print('Test accuracy:', test_acc)"
   ]
  }
 ],
 "metadata": {
  "language_info": {
   "name": "python"
  }
 },
 "nbformat": 4,
 "nbformat_minor": 5
}
