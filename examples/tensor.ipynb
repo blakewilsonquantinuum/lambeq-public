{
 "cells": [
  {
   "cell_type": "code",
   "execution_count": 1,
   "id": "substantial-player",
   "metadata": {},
   "outputs": [
    {
     "data": {
      "image/png": "[encoded data removed]",
      "text/plain": [
       "<Figure size 432x288 with 1 Axes>"
      ]
     },
     "metadata": {
      "needs_background": "light"
     },
     "output_type": "display_data"
    }
   ],
   "source": [
    "from discoket import ccg2discocat, tensor\n",
    "\n",
    "depccg_parser = ccg2discocat.DepCCGParser()\n",
    "diagram = depccg_parser.sentence2diagram('This is a sentence')\n",
    "diagram.draw()"
   ]
  },
  {
   "cell_type": "code",
   "execution_count": 2,
   "id": "paperback-gates",
   "metadata": {},
   "outputs": [
    {
     "data": {
      "text/plain": [
       "tensor([64., 64., 64., 64.])"
      ]
     },
     "execution_count": 2,
     "metadata": {},
     "output_type": "execute_result"
    }
   ],
   "source": [
    "import tensornetwork as tn\n",
    "import torch\n",
    "\n",
    "\n",
    "def tensor_for_box(i, box, diag):\n",
    "    return torch.ones([4]*len(box.cod))\n",
    "\n",
    "\n",
    "tn.set_default_backend('pytorch')\n",
    "\n",
    "td = tensor.TensorDiagram(diagram)\n",
    "td(closure=tensor_for_box)"
   ]
  }
 ],
 "metadata": {
  "language_info": {
   "name": "python"
  }
 },
 "nbformat": 4,
 "nbformat_minor": 5
}
